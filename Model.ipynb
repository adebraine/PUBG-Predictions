{
 "cells": [
  {
   "cell_type": "code",
   "execution_count": 1,
   "metadata": {
    "_uuid": "a5347cfa18c2b3abd8660aeff7985c2d971455c1"
   },
   "outputs": [
    {
     "name": "stderr",
     "output_type": "stream",
     "text": [
      "Using TensorFlow backend.\n"
     ]
    }
   ],
   "source": [
    "import pandas as pd\n",
    "from IPython.display import display\n",
    "import numpy as np\n",
    "import tensorflow as tf\n",
    "from keras.layers import Dropout, Dense, BatchNormalization\n",
    "from keras.models import Sequential\n",
    "from keras.callbacks import ModelCheckpoint\n",
    "from sklearn import preprocessing\n",
    "import keras\n",
    "import matplotlib.pyplot as plt\n",
    "from IPython.display import clear_output\n",
    "%matplotlib inline   "
   ]
  },
  {
   "cell_type": "code",
   "execution_count": 3,
   "metadata": {},
   "outputs": [],
   "source": [
    "from keras import backend as K\n",
    "from keras.backend.tensorflow_backend import set_session\n",
    "import tensorflow as tf \n",
    "config = tf.ConfigProto()\n",
    "config.gpu_options.per_process_gpu_memory_fraction = 0.8\n",
    "set_session(tf.Session(config=config))\n",
    "K.tensorflow_backend._get_available_gpus()"
   ]
  },
  {
   "cell_type": "code",
   "execution_count": 4,
   "metadata": {
    "_uuid": "2f6905729da99ae6f506eea5665ca22c112832a6"
   },
   "outputs": [],
   "source": [
    "test_source = pd.read_csv('all/test_V2.csv')\n",
    "train_source = pd.read_csv('all/train_V2.csv')\n"
   ]
  },
  {
   "cell_type": "code",
   "execution_count": 5,
   "metadata": {
    "_uuid": "adb9819db505dfe1dd200f62a32038124ba1be5b"
   },
   "outputs": [
    {
     "name": "stdout",
     "output_type": "stream",
     "text": [
      "1\n",
      "Empty DataFrame\n",
      "Columns: [assists, boosts, damageDealt, DBNOs, headshotKills, heals, killPlace, killPoints, kills, killStreaks, longestKill, matchDuration, maxPlace, numGroups, rankPoints, revives, rideDistance, roadKills, swimDistance, teamKills, vehicleDestroys, walkDistance, weaponsAcquired, winPoints, winPlacePerc]\n",
      "Index: []\n",
      "\n",
      "[0 rows x 25 columns]\n",
      "Empty DataFrame\n",
      "Columns: [assists, boosts, damageDealt, DBNOs, headshotKills, heals, killPlace, killPoints, kills, killStreaks, longestKill, matchDuration, maxPlace, numGroups, rankPoints, revives, rideDistance, roadKills, swimDistance, teamKills, vehicleDestroys, walkDistance, weaponsAcquired, winPoints, winPlacePerc]\n",
      "Index: []\n",
      "\n",
      "[0 rows x 25 columns]\n",
      "Empty DataFrame\n",
      "Columns: [assists, boosts, damageDealt, DBNOs, headshotKills, heals, killPlace, killPoints, kills, killStreaks, longestKill, matchDuration, maxPlace, numGroups, rankPoints, revives, rideDistance, roadKills, swimDistance, teamKills, vehicleDestroys, walkDistance, weaponsAcquired, winPoints, winPlacePerc]\n",
      "Index: []\n",
      "\n",
      "[0 rows x 25 columns]\n",
      "Empty DataFrame\n",
      "Columns: [assists, boosts, damageDealt, DBNOs, headshotKills, heals, killPlace, killPoints, kills, killStreaks, longestKill, matchDuration, maxPlace, numGroups, rankPoints, revives, rideDistance, roadKills, swimDistance, teamKills, vehicleDestroys, walkDistance, weaponsAcquired, winPoints, winPlacePerc]\n",
      "Index: []\n",
      "\n",
      "[0 rows x 25 columns]\n",
      "Empty DataFrame\n",
      "Columns: [assists, boosts, damageDealt, DBNOs, headshotKills, heals, killPlace, killPoints, kills, killStreaks, longestKill, matchDuration, maxPlace, numGroups, rankPoints, revives, rideDistance, roadKills, swimDistance, teamKills, vehicleDestroys, walkDistance, weaponsAcquired, winPoints, winPlacePerc]\n",
      "Index: []\n",
      "\n",
      "[0 rows x 25 columns]\n",
      "Empty DataFrame\n",
      "Columns: [assists, boosts, damageDealt, DBNOs, headshotKills, heals, killPlace, killPoints, kills, killStreaks, longestKill, matchDuration, maxPlace, numGroups, rankPoints, revives, rideDistance, roadKills, swimDistance, teamKills, vehicleDestroys, walkDistance, weaponsAcquired, winPoints, winPlacePerc]\n",
      "Index: []\n",
      "\n",
      "[0 rows x 25 columns]\n",
      "Empty DataFrame\n",
      "Columns: [assists, boosts, damageDealt, DBNOs, headshotKills, heals, killPlace, killPoints, kills, killStreaks, longestKill, matchDuration, maxPlace, numGroups, rankPoints, revives, rideDistance, roadKills, swimDistance, teamKills, vehicleDestroys, walkDistance, weaponsAcquired, winPoints, winPlacePerc]\n",
      "Index: []\n",
      "\n",
      "[0 rows x 25 columns]\n",
      "Empty DataFrame\n",
      "Columns: [assists, boosts, damageDealt, DBNOs, headshotKills, heals, killPlace, killPoints, kills, killStreaks, longestKill, matchDuration, maxPlace, numGroups, rankPoints, revives, rideDistance, roadKills, swimDistance, teamKills, vehicleDestroys, walkDistance, weaponsAcquired, winPoints, winPlacePerc]\n",
      "Index: []\n",
      "\n",
      "[0 rows x 25 columns]\n",
      "Empty DataFrame\n",
      "Columns: [assists, boosts, damageDealt, DBNOs, headshotKills, heals, killPlace, killPoints, kills, killStreaks, longestKill, matchDuration, maxPlace, numGroups, rankPoints, revives, rideDistance, roadKills, swimDistance, teamKills, vehicleDestroys, walkDistance, weaponsAcquired, winPoints, winPlacePerc]\n",
      "Index: []\n",
      "\n",
      "[0 rows x 25 columns]\n",
      "Empty DataFrame\n",
      "Columns: [assists, boosts, damageDealt, DBNOs, headshotKills, heals, killPlace, killPoints, kills, killStreaks, longestKill, matchDuration, maxPlace, numGroups, rankPoints, revives, rideDistance, roadKills, swimDistance, teamKills, vehicleDestroys, walkDistance, weaponsAcquired, winPoints, winPlacePerc]\n",
      "Index: []\n",
      "\n",
      "[0 rows x 25 columns]\n",
      "Empty DataFrame\n",
      "Columns: [assists, boosts, damageDealt, DBNOs, headshotKills, heals, killPlace, killPoints, kills, killStreaks, longestKill, matchDuration, maxPlace, numGroups, rankPoints, revives, rideDistance, roadKills, swimDistance, teamKills, vehicleDestroys, walkDistance, weaponsAcquired, winPoints, winPlacePerc]\n",
      "Index: []\n",
      "\n",
      "[0 rows x 25 columns]\n",
      "Empty DataFrame\n",
      "Columns: [assists, boosts, damageDealt, DBNOs, headshotKills, heals, killPlace, killPoints, kills, killStreaks, longestKill, matchDuration, maxPlace, numGroups, rankPoints, revives, rideDistance, roadKills, swimDistance, teamKills, vehicleDestroys, walkDistance, weaponsAcquired, winPoints, winPlacePerc]\n",
      "Index: []\n",
      "\n",
      "[0 rows x 25 columns]\n",
      "Empty DataFrame\n",
      "Columns: [assists, boosts, damageDealt, DBNOs, headshotKills, heals, killPlace, killPoints, kills, killStreaks, longestKill, matchDuration, maxPlace, numGroups, rankPoints, revives, rideDistance, roadKills, swimDistance, teamKills, vehicleDestroys, walkDistance, weaponsAcquired, winPoints, winPlacePerc]\n",
      "Index: []\n",
      "\n",
      "[0 rows x 25 columns]\n",
      "Empty DataFrame\n",
      "Columns: [assists, boosts, damageDealt, DBNOs, headshotKills, heals, killPlace, killPoints, kills, killStreaks, longestKill, matchDuration, maxPlace, numGroups, rankPoints, revives, rideDistance, roadKills, swimDistance, teamKills, vehicleDestroys, walkDistance, weaponsAcquired, winPoints, winPlacePerc]\n",
      "Index: []\n",
      "\n",
      "[0 rows x 25 columns]\n",
      "Empty DataFrame\n",
      "Columns: [assists, boosts, damageDealt, DBNOs, headshotKills, heals, killPlace, killPoints, kills, killStreaks, longestKill, matchDuration, maxPlace, numGroups, rankPoints, revives, rideDistance, roadKills, swimDistance, teamKills, vehicleDestroys, walkDistance, weaponsAcquired, winPoints, winPlacePerc]\n",
      "Index: []\n",
      "\n",
      "[0 rows x 25 columns]\n",
      "Empty DataFrame\n",
      "Columns: [assists, boosts, damageDealt, DBNOs, headshotKills, heals, killPlace, killPoints, kills, killStreaks, longestKill, matchDuration, maxPlace, numGroups, rankPoints, revives, rideDistance, roadKills, swimDistance, teamKills, vehicleDestroys, walkDistance, weaponsAcquired, winPoints, winPlacePerc]\n",
      "Index: []\n",
      "\n",
      "[0 rows x 25 columns]\n",
      "Empty DataFrame\n",
      "Columns: [assists, boosts, damageDealt, DBNOs, headshotKills, heals, killPlace, killPoints, kills, killStreaks, longestKill, matchDuration, maxPlace, numGroups, rankPoints, revives, rideDistance, roadKills, swimDistance, teamKills, vehicleDestroys, walkDistance, weaponsAcquired, winPoints, winPlacePerc]\n",
      "Index: []\n",
      "\n",
      "[0 rows x 25 columns]\n",
      "Empty DataFrame\n",
      "Columns: [assists, boosts, damageDealt, DBNOs, headshotKills, heals, killPlace, killPoints, kills, killStreaks, longestKill, matchDuration, maxPlace, numGroups, rankPoints, revives, rideDistance, roadKills, swimDistance, teamKills, vehicleDestroys, walkDistance, weaponsAcquired, winPoints, winPlacePerc]\n",
      "Index: []\n",
      "\n",
      "[0 rows x 25 columns]\n",
      "Empty DataFrame\n",
      "Columns: [assists, boosts, damageDealt, DBNOs, headshotKills, heals, killPlace, killPoints, kills, killStreaks, longestKill, matchDuration, maxPlace, numGroups, rankPoints, revives, rideDistance, roadKills, swimDistance, teamKills, vehicleDestroys, walkDistance, weaponsAcquired, winPoints, winPlacePerc]\n",
      "Index: []\n",
      "\n",
      "[0 rows x 25 columns]\n",
      "Empty DataFrame\n",
      "Columns: [assists, boosts, damageDealt, DBNOs, headshotKills, heals, killPlace, killPoints, kills, killStreaks, longestKill, matchDuration, maxPlace, numGroups, rankPoints, revives, rideDistance, roadKills, swimDistance, teamKills, vehicleDestroys, walkDistance, weaponsAcquired, winPoints, winPlacePerc]\n",
      "Index: []\n",
      "\n",
      "[0 rows x 25 columns]\n",
      "Empty DataFrame\n",
      "Columns: [assists, boosts, damageDealt, DBNOs, headshotKills, heals, killPlace, killPoints, kills, killStreaks, longestKill, matchDuration, maxPlace, numGroups, rankPoints, revives, rideDistance, roadKills, swimDistance, teamKills, vehicleDestroys, walkDistance, weaponsAcquired, winPoints, winPlacePerc]\n",
      "Index: []\n",
      "\n",
      "[0 rows x 25 columns]\n",
      "Empty DataFrame\n",
      "Columns: [assists, boosts, damageDealt, DBNOs, headshotKills, heals, killPlace, killPoints, kills, killStreaks, longestKill, matchDuration, maxPlace, numGroups, rankPoints, revives, rideDistance, roadKills, swimDistance, teamKills, vehicleDestroys, walkDistance, weaponsAcquired, winPoints, winPlacePerc]\n",
      "Index: []\n",
      "\n",
      "[0 rows x 25 columns]\n",
      "Empty DataFrame\n",
      "Columns: [assists, boosts, damageDealt, DBNOs, headshotKills, heals, killPlace, killPoints, kills, killStreaks, longestKill, matchDuration, maxPlace, numGroups, rankPoints, revives, rideDistance, roadKills, swimDistance, teamKills, vehicleDestroys, walkDistance, weaponsAcquired, winPoints, winPlacePerc]\n",
      "Index: []\n",
      "\n",
      "[0 rows x 25 columns]\n",
      "Empty DataFrame\n",
      "Columns: [assists, boosts, damageDealt, DBNOs, headshotKills, heals, killPlace, killPoints, kills, killStreaks, longestKill, matchDuration, maxPlace, numGroups, rankPoints, revives, rideDistance, roadKills, swimDistance, teamKills, vehicleDestroys, walkDistance, weaponsAcquired, winPoints, winPlacePerc]\n",
      "Index: []\n",
      "\n",
      "[0 rows x 25 columns]\n",
      "         assists  boosts  damageDealt  DBNOs  headshotKills  heals  killPlace  \\\n",
      "2744604        0       0          0.0      0              0      0          1   \n",
      "\n",
      "         killPoints  kills  killStreaks      ...       revives  rideDistance  \\\n",
      "2744604           0      0            0      ...             0           0.0   \n",
      "\n",
      "         roadKills  swimDistance  teamKills  vehicleDestroys  walkDistance  \\\n",
      "2744604          0           0.0          0                0           0.0   \n",
      "\n",
      "         weaponsAcquired  winPoints  winPlacePerc  \n",
      "2744604                0          0           NaN  \n",
      "\n",
      "[1 rows x 25 columns]\n"
     ]
    },
    {
     "name": "stdout",
     "output_type": "stream",
     "text": [
      "0\n",
      "0\n"
     ]
    },
    {
     "data": {
      "text/html": [
       "<div>\n",
       "<style scoped>\n",
       "    .dataframe tbody tr th:only-of-type {\n",
       "        vertical-align: middle;\n",
       "    }\n",
       "\n",
       "    .dataframe tbody tr th {\n",
       "        vertical-align: top;\n",
       "    }\n",
       "\n",
       "    .dataframe thead th {\n",
       "        text-align: right;\n",
       "    }\n",
       "</style>\n",
       "<table border=\"1\" class=\"dataframe\">\n",
       "  <thead>\n",
       "    <tr style=\"text-align: right;\">\n",
       "      <th></th>\n",
       "      <th>assists</th>\n",
       "      <th>boosts</th>\n",
       "      <th>damageDealt</th>\n",
       "      <th>DBNOs</th>\n",
       "      <th>headshotKills</th>\n",
       "      <th>heals</th>\n",
       "      <th>killPlace</th>\n",
       "      <th>killPoints</th>\n",
       "      <th>kills</th>\n",
       "      <th>killStreaks</th>\n",
       "      <th>...</th>\n",
       "      <th>revives</th>\n",
       "      <th>rideDistance</th>\n",
       "      <th>roadKills</th>\n",
       "      <th>swimDistance</th>\n",
       "      <th>teamKills</th>\n",
       "      <th>vehicleDestroys</th>\n",
       "      <th>walkDistance</th>\n",
       "      <th>weaponsAcquired</th>\n",
       "      <th>winPoints</th>\n",
       "      <th>winPlacePerc</th>\n",
       "    </tr>\n",
       "  </thead>\n",
       "  <tbody>\n",
       "    <tr>\n",
       "      <th>0</th>\n",
       "      <td>0</td>\n",
       "      <td>0</td>\n",
       "      <td>0.000</td>\n",
       "      <td>0</td>\n",
       "      <td>0</td>\n",
       "      <td>0</td>\n",
       "      <td>60</td>\n",
       "      <td>1241</td>\n",
       "      <td>0</td>\n",
       "      <td>0</td>\n",
       "      <td>...</td>\n",
       "      <td>0</td>\n",
       "      <td>0.0000</td>\n",
       "      <td>0</td>\n",
       "      <td>0.00</td>\n",
       "      <td>0</td>\n",
       "      <td>0</td>\n",
       "      <td>244.80</td>\n",
       "      <td>1</td>\n",
       "      <td>1466</td>\n",
       "      <td>0.4444</td>\n",
       "    </tr>\n",
       "    <tr>\n",
       "      <th>1</th>\n",
       "      <td>0</td>\n",
       "      <td>0</td>\n",
       "      <td>91.470</td>\n",
       "      <td>0</td>\n",
       "      <td>0</td>\n",
       "      <td>0</td>\n",
       "      <td>57</td>\n",
       "      <td>0</td>\n",
       "      <td>0</td>\n",
       "      <td>0</td>\n",
       "      <td>...</td>\n",
       "      <td>0</td>\n",
       "      <td>0.0045</td>\n",
       "      <td>0</td>\n",
       "      <td>11.04</td>\n",
       "      <td>0</td>\n",
       "      <td>0</td>\n",
       "      <td>1434.00</td>\n",
       "      <td>5</td>\n",
       "      <td>0</td>\n",
       "      <td>0.6400</td>\n",
       "    </tr>\n",
       "    <tr>\n",
       "      <th>2</th>\n",
       "      <td>1</td>\n",
       "      <td>0</td>\n",
       "      <td>68.000</td>\n",
       "      <td>0</td>\n",
       "      <td>0</td>\n",
       "      <td>0</td>\n",
       "      <td>47</td>\n",
       "      <td>0</td>\n",
       "      <td>0</td>\n",
       "      <td>0</td>\n",
       "      <td>...</td>\n",
       "      <td>0</td>\n",
       "      <td>0.0000</td>\n",
       "      <td>0</td>\n",
       "      <td>0.00</td>\n",
       "      <td>0</td>\n",
       "      <td>0</td>\n",
       "      <td>161.80</td>\n",
       "      <td>2</td>\n",
       "      <td>0</td>\n",
       "      <td>0.7755</td>\n",
       "    </tr>\n",
       "    <tr>\n",
       "      <th>3</th>\n",
       "      <td>0</td>\n",
       "      <td>0</td>\n",
       "      <td>32.900</td>\n",
       "      <td>0</td>\n",
       "      <td>0</td>\n",
       "      <td>0</td>\n",
       "      <td>75</td>\n",
       "      <td>0</td>\n",
       "      <td>0</td>\n",
       "      <td>0</td>\n",
       "      <td>...</td>\n",
       "      <td>0</td>\n",
       "      <td>0.0000</td>\n",
       "      <td>0</td>\n",
       "      <td>0.00</td>\n",
       "      <td>0</td>\n",
       "      <td>0</td>\n",
       "      <td>202.70</td>\n",
       "      <td>3</td>\n",
       "      <td>0</td>\n",
       "      <td>0.1667</td>\n",
       "    </tr>\n",
       "    <tr>\n",
       "      <th>4</th>\n",
       "      <td>0</td>\n",
       "      <td>0</td>\n",
       "      <td>100.000</td>\n",
       "      <td>0</td>\n",
       "      <td>0</td>\n",
       "      <td>0</td>\n",
       "      <td>45</td>\n",
       "      <td>0</td>\n",
       "      <td>1</td>\n",
       "      <td>1</td>\n",
       "      <td>...</td>\n",
       "      <td>0</td>\n",
       "      <td>0.0000</td>\n",
       "      <td>0</td>\n",
       "      <td>0.00</td>\n",
       "      <td>0</td>\n",
       "      <td>0</td>\n",
       "      <td>49.75</td>\n",
       "      <td>2</td>\n",
       "      <td>0</td>\n",
       "      <td>0.1875</td>\n",
       "    </tr>\n",
       "    <tr>\n",
       "      <th>5</th>\n",
       "      <td>0</td>\n",
       "      <td>0</td>\n",
       "      <td>100.000</td>\n",
       "      <td>1</td>\n",
       "      <td>1</td>\n",
       "      <td>0</td>\n",
       "      <td>44</td>\n",
       "      <td>0</td>\n",
       "      <td>1</td>\n",
       "      <td>1</td>\n",
       "      <td>...</td>\n",
       "      <td>0</td>\n",
       "      <td>0.0000</td>\n",
       "      <td>0</td>\n",
       "      <td>0.00</td>\n",
       "      <td>0</td>\n",
       "      <td>0</td>\n",
       "      <td>34.70</td>\n",
       "      <td>1</td>\n",
       "      <td>0</td>\n",
       "      <td>0.0370</td>\n",
       "    </tr>\n",
       "    <tr>\n",
       "      <th>6</th>\n",
       "      <td>0</td>\n",
       "      <td>0</td>\n",
       "      <td>0.000</td>\n",
       "      <td>0</td>\n",
       "      <td>0</td>\n",
       "      <td>0</td>\n",
       "      <td>96</td>\n",
       "      <td>1262</td>\n",
       "      <td>0</td>\n",
       "      <td>0</td>\n",
       "      <td>...</td>\n",
       "      <td>0</td>\n",
       "      <td>0.0000</td>\n",
       "      <td>0</td>\n",
       "      <td>0.00</td>\n",
       "      <td>0</td>\n",
       "      <td>0</td>\n",
       "      <td>13.50</td>\n",
       "      <td>1</td>\n",
       "      <td>1497</td>\n",
       "      <td>0.0000</td>\n",
       "    </tr>\n",
       "    <tr>\n",
       "      <th>7</th>\n",
       "      <td>0</td>\n",
       "      <td>0</td>\n",
       "      <td>8.538</td>\n",
       "      <td>0</td>\n",
       "      <td>0</td>\n",
       "      <td>0</td>\n",
       "      <td>48</td>\n",
       "      <td>1000</td>\n",
       "      <td>0</td>\n",
       "      <td>0</td>\n",
       "      <td>...</td>\n",
       "      <td>0</td>\n",
       "      <td>2004.0000</td>\n",
       "      <td>0</td>\n",
       "      <td>0.00</td>\n",
       "      <td>0</td>\n",
       "      <td>0</td>\n",
       "      <td>1089.00</td>\n",
       "      <td>6</td>\n",
       "      <td>1500</td>\n",
       "      <td>0.7368</td>\n",
       "    </tr>\n",
       "    <tr>\n",
       "      <th>8</th>\n",
       "      <td>0</td>\n",
       "      <td>0</td>\n",
       "      <td>51.600</td>\n",
       "      <td>0</td>\n",
       "      <td>0</td>\n",
       "      <td>0</td>\n",
       "      <td>64</td>\n",
       "      <td>0</td>\n",
       "      <td>0</td>\n",
       "      <td>0</td>\n",
       "      <td>...</td>\n",
       "      <td>0</td>\n",
       "      <td>0.0000</td>\n",
       "      <td>0</td>\n",
       "      <td>0.00</td>\n",
       "      <td>0</td>\n",
       "      <td>0</td>\n",
       "      <td>799.90</td>\n",
       "      <td>4</td>\n",
       "      <td>0</td>\n",
       "      <td>0.3704</td>\n",
       "    </tr>\n",
       "    <tr>\n",
       "      <th>9</th>\n",
       "      <td>0</td>\n",
       "      <td>0</td>\n",
       "      <td>37.270</td>\n",
       "      <td>0</td>\n",
       "      <td>0</td>\n",
       "      <td>0</td>\n",
       "      <td>74</td>\n",
       "      <td>0</td>\n",
       "      <td>0</td>\n",
       "      <td>0</td>\n",
       "      <td>...</td>\n",
       "      <td>0</td>\n",
       "      <td>0.0000</td>\n",
       "      <td>0</td>\n",
       "      <td>0.00</td>\n",
       "      <td>0</td>\n",
       "      <td>0</td>\n",
       "      <td>65.67</td>\n",
       "      <td>1</td>\n",
       "      <td>0</td>\n",
       "      <td>0.2143</td>\n",
       "    </tr>\n",
       "  </tbody>\n",
       "</table>\n",
       "<p>10 rows × 25 columns</p>\n",
       "</div>"
      ],
      "text/plain": [
       "   assists  boosts  damageDealt  DBNOs  headshotKills  heals  killPlace  \\\n",
       "0        0       0        0.000      0              0      0         60   \n",
       "1        0       0       91.470      0              0      0         57   \n",
       "2        1       0       68.000      0              0      0         47   \n",
       "3        0       0       32.900      0              0      0         75   \n",
       "4        0       0      100.000      0              0      0         45   \n",
       "5        0       0      100.000      1              1      0         44   \n",
       "6        0       0        0.000      0              0      0         96   \n",
       "7        0       0        8.538      0              0      0         48   \n",
       "8        0       0       51.600      0              0      0         64   \n",
       "9        0       0       37.270      0              0      0         74   \n",
       "\n",
       "   killPoints  kills  killStreaks      ...       revives  rideDistance  \\\n",
       "0        1241      0            0      ...             0        0.0000   \n",
       "1           0      0            0      ...             0        0.0045   \n",
       "2           0      0            0      ...             0        0.0000   \n",
       "3           0      0            0      ...             0        0.0000   \n",
       "4           0      1            1      ...             0        0.0000   \n",
       "5           0      1            1      ...             0        0.0000   \n",
       "6        1262      0            0      ...             0        0.0000   \n",
       "7        1000      0            0      ...             0     2004.0000   \n",
       "8           0      0            0      ...             0        0.0000   \n",
       "9           0      0            0      ...             0        0.0000   \n",
       "\n",
       "   roadKills  swimDistance  teamKills  vehicleDestroys  walkDistance  \\\n",
       "0          0          0.00          0                0        244.80   \n",
       "1          0         11.04          0                0       1434.00   \n",
       "2          0          0.00          0                0        161.80   \n",
       "3          0          0.00          0                0        202.70   \n",
       "4          0          0.00          0                0         49.75   \n",
       "5          0          0.00          0                0         34.70   \n",
       "6          0          0.00          0                0         13.50   \n",
       "7          0          0.00          0                0       1089.00   \n",
       "8          0          0.00          0                0        799.90   \n",
       "9          0          0.00          0                0         65.67   \n",
       "\n",
       "   weaponsAcquired  winPoints  winPlacePerc  \n",
       "0                1       1466        0.4444  \n",
       "1                5          0        0.6400  \n",
       "2                2          0        0.7755  \n",
       "3                3          0        0.1667  \n",
       "4                2          0        0.1875  \n",
       "5                1          0        0.0370  \n",
       "6                1       1497        0.0000  \n",
       "7                6       1500        0.7368  \n",
       "8                4          0        0.3704  \n",
       "9                1          0        0.2143  \n",
       "\n",
       "[10 rows x 25 columns]"
      ]
     },
     "metadata": {},
     "output_type": "display_data"
    }
   ],
   "source": [
    "def clear_useless(train, test, useless):\n",
    "    test_temp = test.drop(columns=useless)\n",
    "    train_temp = train.drop(columns=useless)\n",
    "    \n",
    "    return train_temp, test_temp\n",
    "useless = ['Id', 'groupId', 'matchType', 'matchId']\n",
    "test_Id = test_source['Id']\n",
    "train,test = clear_useless(train_source, test_source, useless)\n",
    "\n",
    "name = ['assists', 'boosts', 'damageDealt', \n",
    "        'DBNOs', 'headshotKills', 'heals', \n",
    "        'killPlace', 'killPoints', 'kills', \n",
    "        'killStreaks', 'longestKill', 'matchDuration', \n",
    "        'maxPlace', 'numGroups', 'rankPoints', \n",
    "        'revives', 'rideDistance', 'roadKills', \n",
    "        'swimDistance', 'teamKills', 'vehicleDestroys', \n",
    "        'walkDistance', 'weaponsAcquired', 'winPoints', 'winPlacePerc']\n",
    "print(train.isnull().sum().sum())\n",
    "for i in name:\n",
    "    print(train[train[i].isnull()])\n",
    "\n",
    "train = train.drop(2744604)\n",
    "print(train.isnull().sum().sum())\n",
    "print(test.isnull().sum().sum())\n",
    "display(train.head(10))"
   ]
  },
  {
   "cell_type": "code",
   "execution_count": 6,
   "metadata": {
    "_uuid": "b79e53ae910e806c9c089692fd22f22916c6da8c"
   },
   "outputs": [
    {
     "name": "stdout",
     "output_type": "stream",
     "text": [
      "Train:\n",
      "Input: (4446965, 24)   |   Output: (4446965, 1)\n",
      "\n",
      "Test:\n",
      "Input: (1934174, 24)\n"
     ]
    }
   ],
   "source": [
    "train_input = np.asarray(train.loc[:, train.columns != 'winPlacePerc'])\n",
    "train_output = np.asarray(train.loc[:,'winPlacePerc'])\n",
    "test_input = np.asarray(test)\n",
    "train_output = train_output.reshape((train_output.shape[0], 1))\n",
    "\n",
    "print('Train:\\nInput: {}   |   Output: {}\\n\\nTest:\\nInput: {}'.format(train_input.shape, train_output.shape, test_input.shape))"
   ]
  },
  {
   "cell_type": "code",
   "execution_count": 7,
   "metadata": {
    "_uuid": "5ca169dee05020860429276bf753e84fc6a39709"
   },
   "outputs": [
    {
     "name": "stdout",
     "output_type": "stream",
     "text": [
      "Train:\n",
      "Input: (4002269, 24)   |   Output: (4002269, 1)\n",
      "\n",
      "Valid:\n",
      "Input: (444696, 24)   |   Output: (444696, 1)\n",
      "\n",
      "Test:\n",
      "Input: (1934174, 24)\n"
     ]
    }
   ],
   "source": [
    "def scale_data(data):\n",
    "    return preprocessing.MinMaxScaler(feature_range=(-1, 1)).fit_transform(data)\n",
    "    \n",
    "train_input = scale_data(train_input)\n",
    "test_input = scale_data(test_input)\n",
    "\n",
    "split = int(np.ceil(train_input.shape[0]*0.9))\n",
    "valid_input = train_input[split:,:]\n",
    "train_input = train_input[:split,:]\n",
    "\n",
    "valid_output = train_output[split:]\n",
    "train_output = train_output[:split]\n",
    "print('Train:\\nInput: {}   |   Output: {}\\n\\nValid:\\nInput: {}   |   Output: {}\\n\\nTest:\\nInput: {}'.format(train_input.shape, train_output.shape, valid_input.shape, valid_output.shape, test_input.shape))"
   ]
  },
  {
   "cell_type": "code",
   "execution_count": 8,
   "metadata": {
    "_uuid": "e01a47d9d3a4dcdbfc8df7c5e7ec2642290c6f06"
   },
   "outputs": [
    {
     "data": {
      "text/plain": [
       "array([[-1.        , -1.        , -1.        , ..., -0.98100853,\n",
       "        -0.99152542,  0.45653254],\n",
       "       [-1.        , -1.        , -0.97234885, ..., -0.88875097,\n",
       "        -0.95762712, -1.        ],\n",
       "       [-0.90909091, -1.        , -0.97944377, ..., -0.98744763,\n",
       "        -0.98305085, -1.        ],\n",
       "       ...,\n",
       "       [-1.        , -0.87878788, -0.98600363, ..., -0.88642358,\n",
       "        -0.96610169, -1.        ],\n",
       "       [-1.        , -1.        , -1.        , ..., -0.99801164,\n",
       "        -0.99152542, -1.        ],\n",
       "       [-1.        , -0.93939394, -0.96438936, ..., -0.92381691,\n",
       "        -0.97457627,  0.49031297]])"
      ]
     },
     "execution_count": 8,
     "metadata": {},
     "output_type": "execute_result"
    }
   ],
   "source": [
    "train_input"
   ]
  },
  {
   "cell_type": "code",
   "execution_count": 9,
   "metadata": {
    "_uuid": "0ecfd139a46417746c77b345dff7b1f9d47dcd38"
   },
   "outputs": [],
   "source": [
    "# https://gist.github.com/stared/dfb4dfaf6d9a8501cd1cc8b8cb806d2e\n",
    "# Below is live plot\n",
    "class PlotLosses(keras.callbacks.Callback):\n",
    "    def on_train_begin(self, logs={}):\n",
    "        self.i = 0\n",
    "        self.x = []\n",
    "        self.losses = []\n",
    "        self.val_losses = []\n",
    "        self.val_losses2 = []\n",
    "        self.fig = plt.figure()\n",
    "        self.logs = []\n",
    "        self.avg_val_loss = 0\n",
    "        self.total_epochs = self.params['epochs']\n",
    "\n",
    "    def on_epoch_end(self, epoch, logs={}):\n",
    "        \n",
    "        self.logs.append(logs)\n",
    "        self.x.append(self.i)\n",
    "        self.losses.append(logs.get('loss'))\n",
    "        self.val_losses.append(logs.get('val_loss'))\n",
    "        self.val_losses2.append(logs.get('val_loss'))\n",
    "        self.avg_val_loss = np.mean(self.val_losses2)\n",
    "        if self.i%10 == 0:\n",
    "            self.val_losses2 = []\n",
    "        self.i += 1\n",
    "        \n",
    "        clear_output(wait=True)\n",
    "        plt.plot(self.x, self.losses, label=\"loss\")\n",
    "        plt.plot(self.x, self.val_losses, label=\"val_loss\")\n",
    "        plt.legend()\n",
    "        plt.xlabel('Epochs')\n",
    "        plt.ylabel('Losses')\n",
    "        plt.show()\n",
    "        print('Epoch {}/{}'.format(self.i, self.total_epochs))\n",
    "        print('Last10_avg_Valid_loss = {}'.format(self.avg_val_loss))\n",
    "        print('Training_loss = {}'.format(logs.get('loss')))"
   ]
  },
  {
   "cell_type": "code",
   "execution_count": 10,
   "metadata": {
    "_uuid": "63c93efd4336075f51871e27bb4fc81ea0ecd234"
   },
   "outputs": [],
   "source": [
    "epochs = 100\n",
    "batch_size = 10000"
   ]
  },
  {
   "cell_type": "code",
   "execution_count": 11,
   "metadata": {
    "_uuid": "b753b295b4cc465cb9bbb78af7ac1b3331bf4e69"
   },
   "outputs": [
    {
     "name": "stdout",
     "output_type": "stream",
     "text": [
      "_________________________________________________________________\n",
      "Layer (type)                 Output Shape              Param #   \n",
      "=================================================================\n",
      "dense_1 (Dense)              (None, 32)                800       \n",
      "_________________________________________________________________\n",
      "dropout_1 (Dropout)          (None, 32)                0         \n",
      "_________________________________________________________________\n",
      "dense_2 (Dense)              (None, 16)                528       \n",
      "_________________________________________________________________\n",
      "dropout_2 (Dropout)          (None, 16)                0         \n",
      "_________________________________________________________________\n",
      "dense_3 (Dense)              (None, 8)                 136       \n",
      "_________________________________________________________________\n",
      "dropout_3 (Dropout)          (None, 8)                 0         \n",
      "_________________________________________________________________\n",
      "dense_4 (Dense)              (None, 1)                 9         \n",
      "=================================================================\n",
      "Total params: 1,473\n",
      "Trainable params: 1,473\n",
      "Non-trainable params: 0\n",
      "_________________________________________________________________\n"
     ]
    }
   ],
   "source": [
    "model = Sequential()\n",
    "\n",
    "model.add(Dense(32, input_shape=(train_input.shape[1],), activation='relu'))\n",
    "# model.add(BatchNormalization())\n",
    "model.add(Dropout(0.1))\n",
    "model.add(Dense(16, activation='relu'))\n",
    "# model.add(BatchNormalization())\n",
    "model.add(Dropout(0.1))\n",
    "model.add(Dense(8, activation='relu'))\n",
    "# model.add(BatchNormalization())\n",
    "model.add(Dropout(0.1))\n",
    "model.add(Dense(1, activation='sigmoid'))\n",
    "\n",
    "model.summary()"
   ]
  },
  {
   "cell_type": "code",
   "execution_count": 12,
   "metadata": {
    "_uuid": "2619ed2d65b4a47ca7ae5e5d618c01aeb29fb217"
   },
   "outputs": [],
   "source": [
    "optimizer = keras.optimizers.RMSprop(lr=0.001, rho=0.9, epsilon=None, decay=0.0001)\n",
    "optimizer = 'nadam'\n",
    "model.compile(optimizer=optimizer, loss='mean_absolute_error')"
   ]
  },
  {
   "cell_type": "code",
   "execution_count": 13,
   "metadata": {
    "_uuid": "49efc7430520aaef72a2848571fffa6542dc1fce",
    "scrolled": false
   },
   "outputs": [
    {
     "data": {
      "image/png": "[encoded data removed]",
      "text/plain": [
       "<Figure size 432x288 with 1 Axes>"
      ]
     },
     "metadata": {
      "needs_background": "light"
     },
     "output_type": "display_data"
    },
    {
     "name": "stdout",
     "output_type": "stream",
     "text": [
      "Epoch 100/100\n",
      "Last10_avg_Valid_loss = 0.06637174354034883\n",
      "Training_loss = 0.0728408023846522\n"
     ]
    },
    {
     "data": {
      "text/plain": [
       "<keras.callbacks.History at 0x7f15c4fc58d0>"
      ]
     },
     "execution_count": 13,
     "metadata": {},
     "output_type": "execute_result"
    }
   ],
   "source": [
    "model.fit(train_input, train_output, \n",
    "          validation_data=(valid_input, valid_output),\n",
    "          epochs=epochs, batch_size=batch_size, callbacks=[PlotLosses()], verbose=1)"
   ]
  },
  {
   "cell_type": "code",
   "execution_count": 14,
   "metadata": {
    "_uuid": "7efcc17f875d29510d0f7f790719453319bdb914"
   },
   "outputs": [],
   "source": [
    "prediction = model.predict(test_input)"
   ]
  },
  {
   "cell_type": "code",
   "execution_count": 15,
   "metadata": {
    "_uuid": "b5ac6fbaeaedcaeb911458869215c716deab5e71"
   },
   "outputs": [],
   "source": [
    "sub = {'Id': test_Id, 'winPlacePerc': prediction.reshape(1,-1)[0]}\n",
    "submission = pd.DataFrame(data=sub)"
   ]
  },
  {
   "cell_type": "code",
   "execution_count": 16,
   "metadata": {
    "_uuid": "b7078decc3da1ceee432c365a51d7c13489358ce"
   },
   "outputs": [],
   "source": [
    "submission.to_csv('submission.csv', index=False)"
   ]
  },
  {
   "cell_type": "code",
   "execution_count": null,
   "metadata": {
    "_uuid": "90ae29c020b639bb67807cb05b8fc11f4c6cc81a"
   },
   "outputs": [],
   "source": []
  },
  {
   "cell_type": "code",
   "execution_count": null,
   "metadata": {
    "_uuid": "a17cc0c9088d9a301aab6f2e17269461920fe925"
   },
   "outputs": [],
   "source": [
    "\n"
   ]
  },
  {
   "cell_type": "code",
   "execution_count": null,
   "metadata": {
    "_uuid": "d832cd51cebd47a328680ba6b350d6f3d5f4e47d"
   },
   "outputs": [],
   "source": []
  },
  {
   "cell_type": "code",
   "execution_count": null,
   "metadata": {
    "_uuid": "62bdfc2016c256836787314da6f8968c4945e2c6"
   },
   "outputs": [],
   "source": []
  },
  {
   "cell_type": "code",
   "execution_count": null,
   "metadata": {
    "_uuid": "ec14d41c07c9996dd4ca1952e4417ef583ee5e9c"
   },
   "outputs": [],
   "source": []
  },
  {
   "cell_type": "code",
   "execution_count": null,
   "metadata": {
    "_uuid": "53862f31b1181281bcfdc5d8b819fb7a81e3d665"
   },
   "outputs": [],
   "source": []
  }
 ],
 "metadata": {
  "kernelspec": {
   "display_name": "Tensorflow GPU",
   "language": "python",
   "name": "tensorflow-gpu"
  },
  "language_info": {
   "codemirror_mode": {
    "name": "ipython",
    "version": 3
   },
   "file_extension": ".py",
   "mimetype": "text/x-python",
   "name": "python",
   "nbconvert_exporter": "python",
   "pygments_lexer": "ipython3",
   "version": "3.6.6"
  }
 },
 "nbformat": 4,
 "nbformat_minor": 1
}
